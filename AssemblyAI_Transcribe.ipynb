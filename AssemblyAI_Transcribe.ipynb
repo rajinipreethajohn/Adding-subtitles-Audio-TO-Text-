{
  "nbformat": 4,
  "nbformat_minor": 0,
  "metadata": {
    "colab": {
      "provenance": [],
      "mount_file_id": "1o0MvtV17zz5-qKrelu-Esz8h_EpOgJg0",
      "authorship_tag": "ABX9TyMDvX78Q4L2gIuM1Bdpwq68"
    },
    "kernelspec": {
      "name": "python3",
      "display_name": "Python 3"
    },
    "language_info": {
      "name": "python"
    }
  },
  "cells": [
    {
      "cell_type": "code",
      "execution_count": null,
      "metadata": {
        "id": "V7aOO7mh8FBH"
      },
      "outputs": [],
      "source": [
        "#Install assembly ai\n",
        "\n",
        "#!pip install assemblyai"
      ]
    },
    {
      "cell_type": "code",
      "source": [
        "#Download a video and export as audio OR directly provide an audio file and\n",
        "#to transcribe to the below snippet of code and save the file as an srt file\n",
        "\n",
        "import assemblyai as aai\n",
        "\n",
        "import os\n",
        "os.environ['API_KEY'] = 'XXXXXX'\n",
        "\n",
        "aai.settings.api_key = os.getenv('API_KEY')\n",
        "\n",
        "transcript = aai.Transcriber().transcribe(\"/content/drive/MyDrive/audio.m4a\")\n",
        "\n",
        "subtitles = transcript.export_subtitles_srt()\n",
        "\n",
        "f = open(\"subtitles.srt\",\"a\")\n",
        "f.write(subtitles)\n",
        "f.close()"
      ],
      "metadata": {
        "id": "DJyyFDww8ZR0"
      },
      "execution_count": 5,
      "outputs": []
    }
  ]
}